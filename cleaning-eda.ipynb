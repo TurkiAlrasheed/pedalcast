{
 "cells": [
  {
   "cell_type": "markdown",
   "metadata": {},
   "source": [
    "### Pedalcast: Predicting daily bike usage for each station - Cleaning Notebook"
   ]
  },
  {
   "cell_type": "markdown",
   "metadata": {},
   "source": [
    "#### Data Sources\n",
    "\n",
    "This project uses two main datasets:\n",
    "\n",
    "- **BlueBikes Trip Data**  \n",
    "  Historical trip records from Boston's BlueBikes system, including start/end stations, timestamps, and bike types. The data used in this project spans **July 2023 through June 2025**.\n",
    "\n",
    "  📂 Source: [BlueBikes Open Data Portal](https://s3.amazonaws.com/hubway-data/index.html)\n",
    "\n",
    "\n",
    "- **Weather Data**  \n",
    "  Daily weather conditions (temperature, precipitation, wind, visibility, etc.) for the Boston area, aligned with each ride day.  \n",
    "  \n",
    "  📂 Source: [Visual Crossing Weather](https://www.visualcrossing.com/weather-data)\n",
    "\n",
    "These datasets are combined to train a model that predicts daily bike demand at the station level."
   ]
  },
  {
   "cell_type": "markdown",
   "metadata": {},
   "source": [
    "### Imports"
   ]
  },
  {
   "cell_type": "code",
   "execution_count": 2,
   "metadata": {},
   "outputs": [],
   "source": [
    "import numpy as np\n",
    "import pandas as pd\n",
    "import matplotlib.pyplot as plt\n",
    "import geopandas as gpd\n",
    "from glob import glob"
   ]
  },
  {
   "cell_type": "markdown",
   "metadata": {},
   "source": [
    "##### Combining Monthly Trip Data\n",
    "\n",
    "In the cell below, we load and combine all monthly BlueBikes trip data files into a single DataFrame.\n",
    "\n",
    "Each monthly dataset is stored as a CSV file named in the format:  \n",
    "`YYYY-MM-bluebikes-tripdata.csv` inside the `data/` directory.\n",
    "\n",
    "We use `glob` to match all relevant files, then read them into pandas DataFrames.  "
   ]
  },
  {
   "cell_type": "code",
   "execution_count": 3,
   "metadata": {},
   "outputs": [
    {
     "name": "stdout",
     "output_type": "stream",
     "text": [
      "✅ Combined shape: (8793350, 13)\n"
     ]
    }
   ],
   "source": [
    "csv_files = sorted(glob(\"data/*-bluebikes-tripdata.csv\"))\n",
    "\n",
    "dfs = []\n",
    "for f in csv_files:\n",
    "    try:\n",
    "        df = pd.read_csv(f)\n",
    "        dfs.append(df)\n",
    "    except Exception as e:\n",
    "        print(f\"❌ Failed to load {f}: {e}\")\n",
    "\n",
    "if dfs:\n",
    "    trips = pd.concat(dfs, ignore_index=True)\n",
    "    print(f\"✅ Combined shape: {trips.shape}\")\n",
    "else:\n",
    "    print(\"❌ No CSVs loaded. Check filename pattern or folder.\")"
   ]
  },
  {
   "cell_type": "markdown",
   "metadata": {},
   "source": [
    "We keep only the columns needed for daily station-level analysis:  \n",
    "`started_at`, `start_station_name`, and `start_station_id`.\n",
    "\n",
    "2033 rows are dropped due to missing start_station_id, and a `date` column is created by extracting the day from the `started_at` timestamp and converting it to a datetime object."
   ]
  },
  {
   "cell_type": "code",
   "execution_count": 5,
   "metadata": {},
   "outputs": [
    {
     "data": {
      "text/html": [
       "<div>\n",
       "<style scoped>\n",
       "    .dataframe tbody tr th:only-of-type {\n",
       "        vertical-align: middle;\n",
       "    }\n",
       "\n",
       "    .dataframe tbody tr th {\n",
       "        vertical-align: top;\n",
       "    }\n",
       "\n",
       "    .dataframe thead th {\n",
       "        text-align: right;\n",
       "    }\n",
       "</style>\n",
       "<table border=\"1\" class=\"dataframe\">\n",
       "  <thead>\n",
       "    <tr style=\"text-align: right;\">\n",
       "      <th></th>\n",
       "      <th>started_at</th>\n",
       "      <th>start_station_name</th>\n",
       "      <th>start_station_id</th>\n",
       "      <th>date</th>\n",
       "    </tr>\n",
       "  </thead>\n",
       "  <tbody>\n",
       "    <tr>\n",
       "      <th>0</th>\n",
       "      <td>2023-07-18 13:48:34</td>\n",
       "      <td>Roxbury Crossing T Stop - Columbus Ave at Trem...</td>\n",
       "      <td>C32001</td>\n",
       "      <td>2023-07-18</td>\n",
       "    </tr>\n",
       "    <tr>\n",
       "      <th>1</th>\n",
       "      <td>2023-07-19 12:16:30</td>\n",
       "      <td>Roxbury Crossing T Stop - Columbus Ave at Trem...</td>\n",
       "      <td>C32001</td>\n",
       "      <td>2023-07-19</td>\n",
       "    </tr>\n",
       "    <tr>\n",
       "      <th>2</th>\n",
       "      <td>2023-07-28 17:49:26</td>\n",
       "      <td>Roxbury Crossing T Stop - Columbus Ave at Trem...</td>\n",
       "      <td>C32001</td>\n",
       "      <td>2023-07-28</td>\n",
       "    </tr>\n",
       "    <tr>\n",
       "      <th>3</th>\n",
       "      <td>2023-07-22 23:14:17</td>\n",
       "      <td>Roxbury Crossing T Stop - Columbus Ave at Trem...</td>\n",
       "      <td>C32001</td>\n",
       "      <td>2023-07-22</td>\n",
       "    </tr>\n",
       "    <tr>\n",
       "      <th>4</th>\n",
       "      <td>2023-07-21 18:41:22</td>\n",
       "      <td>Roxbury Crossing T Stop - Columbus Ave at Trem...</td>\n",
       "      <td>C32001</td>\n",
       "      <td>2023-07-21</td>\n",
       "    </tr>\n",
       "    <tr>\n",
       "      <th>...</th>\n",
       "      <td>...</td>\n",
       "      <td>...</td>\n",
       "      <td>...</td>\n",
       "      <td>...</td>\n",
       "    </tr>\n",
       "    <tr>\n",
       "      <th>8793345</th>\n",
       "      <td>2025-06-12 20:20:45.355</td>\n",
       "      <td>Tremont St at Northampton St</td>\n",
       "      <td>C32056</td>\n",
       "      <td>2025-06-12</td>\n",
       "    </tr>\n",
       "    <tr>\n",
       "      <th>8793346</th>\n",
       "      <td>2025-06-25 17:13:30.010</td>\n",
       "      <td>Park Street T Stop - Tremont St at Park St</td>\n",
       "      <td>B32068</td>\n",
       "      <td>2025-06-25</td>\n",
       "    </tr>\n",
       "    <tr>\n",
       "      <th>8793347</th>\n",
       "      <td>2025-06-09 16:03:20.398</td>\n",
       "      <td>Innovation Lab - 125 Western Ave at Batten Way</td>\n",
       "      <td>A32011</td>\n",
       "      <td>2025-06-09</td>\n",
       "    </tr>\n",
       "    <tr>\n",
       "      <th>8793348</th>\n",
       "      <td>2025-06-03 09:22:41.353</td>\n",
       "      <td>Centre St at Seaverns Ave</td>\n",
       "      <td>E32008</td>\n",
       "      <td>2025-06-03</td>\n",
       "    </tr>\n",
       "    <tr>\n",
       "      <th>8793349</th>\n",
       "      <td>2025-06-21 12:34:17.333</td>\n",
       "      <td>Centre St at Seaverns Ave</td>\n",
       "      <td>E32008</td>\n",
       "      <td>2025-06-21</td>\n",
       "    </tr>\n",
       "  </tbody>\n",
       "</table>\n",
       "<p>8791317 rows × 4 columns</p>\n",
       "</div>"
      ],
      "text/plain": [
       "                      started_at  \\\n",
       "0            2023-07-18 13:48:34   \n",
       "1            2023-07-19 12:16:30   \n",
       "2            2023-07-28 17:49:26   \n",
       "3            2023-07-22 23:14:17   \n",
       "4            2023-07-21 18:41:22   \n",
       "...                          ...   \n",
       "8793345  2025-06-12 20:20:45.355   \n",
       "8793346  2025-06-25 17:13:30.010   \n",
       "8793347  2025-06-09 16:03:20.398   \n",
       "8793348  2025-06-03 09:22:41.353   \n",
       "8793349  2025-06-21 12:34:17.333   \n",
       "\n",
       "                                        start_station_name start_station_id  \\\n",
       "0        Roxbury Crossing T Stop - Columbus Ave at Trem...           C32001   \n",
       "1        Roxbury Crossing T Stop - Columbus Ave at Trem...           C32001   \n",
       "2        Roxbury Crossing T Stop - Columbus Ave at Trem...           C32001   \n",
       "3        Roxbury Crossing T Stop - Columbus Ave at Trem...           C32001   \n",
       "4        Roxbury Crossing T Stop - Columbus Ave at Trem...           C32001   \n",
       "...                                                    ...              ...   \n",
       "8793345                       Tremont St at Northampton St           C32056   \n",
       "8793346         Park Street T Stop - Tremont St at Park St           B32068   \n",
       "8793347     Innovation Lab - 125 Western Ave at Batten Way           A32011   \n",
       "8793348                          Centre St at Seaverns Ave           E32008   \n",
       "8793349                          Centre St at Seaverns Ave           E32008   \n",
       "\n",
       "              date  \n",
       "0       2023-07-18  \n",
       "1       2023-07-19  \n",
       "2       2023-07-28  \n",
       "3       2023-07-22  \n",
       "4       2023-07-21  \n",
       "...            ...  \n",
       "8793345 2025-06-12  \n",
       "8793346 2025-06-25  \n",
       "8793347 2025-06-09  \n",
       "8793348 2025-06-03  \n",
       "8793349 2025-06-21  \n",
       "\n",
       "[8791317 rows x 4 columns]"
      ]
     },
     "execution_count": 5,
     "metadata": {},
     "output_type": "execute_result"
    }
   ],
   "source": [
    "relevant_cols = ['started_at','start_station_name','start_station_id']\n",
    "trips = trips[relevant_cols]\n",
    "trips=trips.dropna()\n",
    "trips['date'] = pd.to_datetime(pd.to_datetime(trips['started_at'],format='mixed').dt.date)\n",
    "trips"
   ]
  },
  {
   "cell_type": "markdown",
   "metadata": {},
   "source": [
    "We first filter the trip data to include only rides from **June 2025**.\n",
    "\n",
    "Then, we extract the list of **stations that were active** (i.e., had trips) during that month.\n",
    "\n",
    "Finally, we filter the full dataset to keep **only trips from those active stations**, ensuring consistency when forecasting or evaluating recent demand."
   ]
  },
  {
   "cell_type": "code",
   "execution_count": 6,
   "metadata": {},
   "outputs": [
    {
     "data": {
      "text/html": [
       "<div>\n",
       "<style scoped>\n",
       "    .dataframe tbody tr th:only-of-type {\n",
       "        vertical-align: middle;\n",
       "    }\n",
       "\n",
       "    .dataframe tbody tr th {\n",
       "        vertical-align: top;\n",
       "    }\n",
       "\n",
       "    .dataframe thead th {\n",
       "        text-align: right;\n",
       "    }\n",
       "</style>\n",
       "<table border=\"1\" class=\"dataframe\">\n",
       "  <thead>\n",
       "    <tr style=\"text-align: right;\">\n",
       "      <th></th>\n",
       "      <th>started_at</th>\n",
       "      <th>start_station_name</th>\n",
       "      <th>start_station_id</th>\n",
       "      <th>date</th>\n",
       "    </tr>\n",
       "  </thead>\n",
       "  <tbody>\n",
       "    <tr>\n",
       "      <th>0</th>\n",
       "      <td>2023-07-18 13:48:34</td>\n",
       "      <td>Roxbury Crossing T Stop - Columbus Ave at Trem...</td>\n",
       "      <td>C32001</td>\n",
       "      <td>2023-07-18</td>\n",
       "    </tr>\n",
       "    <tr>\n",
       "      <th>1</th>\n",
       "      <td>2023-07-19 12:16:30</td>\n",
       "      <td>Roxbury Crossing T Stop - Columbus Ave at Trem...</td>\n",
       "      <td>C32001</td>\n",
       "      <td>2023-07-19</td>\n",
       "    </tr>\n",
       "    <tr>\n",
       "      <th>2</th>\n",
       "      <td>2023-07-28 17:49:26</td>\n",
       "      <td>Roxbury Crossing T Stop - Columbus Ave at Trem...</td>\n",
       "      <td>C32001</td>\n",
       "      <td>2023-07-28</td>\n",
       "    </tr>\n",
       "    <tr>\n",
       "      <th>3</th>\n",
       "      <td>2023-07-22 23:14:17</td>\n",
       "      <td>Roxbury Crossing T Stop - Columbus Ave at Trem...</td>\n",
       "      <td>C32001</td>\n",
       "      <td>2023-07-22</td>\n",
       "    </tr>\n",
       "    <tr>\n",
       "      <th>4</th>\n",
       "      <td>2023-07-21 18:41:22</td>\n",
       "      <td>Roxbury Crossing T Stop - Columbus Ave at Trem...</td>\n",
       "      <td>C32001</td>\n",
       "      <td>2023-07-21</td>\n",
       "    </tr>\n",
       "  </tbody>\n",
       "</table>\n",
       "</div>"
      ],
      "text/plain": [
       "            started_at                                 start_station_name  \\\n",
       "0  2023-07-18 13:48:34  Roxbury Crossing T Stop - Columbus Ave at Trem...   \n",
       "1  2023-07-19 12:16:30  Roxbury Crossing T Stop - Columbus Ave at Trem...   \n",
       "2  2023-07-28 17:49:26  Roxbury Crossing T Stop - Columbus Ave at Trem...   \n",
       "3  2023-07-22 23:14:17  Roxbury Crossing T Stop - Columbus Ave at Trem...   \n",
       "4  2023-07-21 18:41:22  Roxbury Crossing T Stop - Columbus Ave at Trem...   \n",
       "\n",
       "  start_station_id       date  \n",
       "0           C32001 2023-07-18  \n",
       "1           C32001 2023-07-19  \n",
       "2           C32001 2023-07-28  \n",
       "3           C32001 2023-07-22  \n",
       "4           C32001 2023-07-21  "
      ]
     },
     "execution_count": 6,
     "metadata": {},
     "output_type": "execute_result"
    }
   ],
   "source": [
    "# Filter to June 2025 only\n",
    "trips_may = trips[(trips['date'] >= '2025-06-01') & (trips['date'] <= '2025-06-30')]\n",
    "\n",
    "# Get station IDs active in June 2025\n",
    "active_stations = trips_may['start_station_id'].unique()\n",
    "trips_active = trips[trips['start_station_id'].isin(active_stations)]\n",
    "trips_active.head()"
   ]
  },
  {
   "cell_type": "code",
   "execution_count": 7,
   "metadata": {},
   "outputs": [
    {
     "data": {
      "text/html": [
       "<div>\n",
       "<style scoped>\n",
       "    .dataframe tbody tr th:only-of-type {\n",
       "        vertical-align: middle;\n",
       "    }\n",
       "\n",
       "    .dataframe tbody tr th {\n",
       "        vertical-align: top;\n",
       "    }\n",
       "\n",
       "    .dataframe thead th {\n",
       "        text-align: right;\n",
       "    }\n",
       "</style>\n",
       "<table border=\"1\" class=\"dataframe\">\n",
       "  <thead>\n",
       "    <tr style=\"text-align: right;\">\n",
       "      <th></th>\n",
       "      <th>start_station_id</th>\n",
       "      <th>start_station_name</th>\n",
       "      <th>date</th>\n",
       "      <th>trip_count</th>\n",
       "    </tr>\n",
       "  </thead>\n",
       "  <tbody>\n",
       "    <tr>\n",
       "      <th>0</th>\n",
       "      <td>A32000</td>\n",
       "      <td>Fan Pier</td>\n",
       "      <td>2023-07-01</td>\n",
       "      <td>30</td>\n",
       "    </tr>\n",
       "    <tr>\n",
       "      <th>1</th>\n",
       "      <td>A32000</td>\n",
       "      <td>Fan Pier</td>\n",
       "      <td>2023-07-02</td>\n",
       "      <td>20</td>\n",
       "    </tr>\n",
       "    <tr>\n",
       "      <th>2</th>\n",
       "      <td>A32000</td>\n",
       "      <td>Fan Pier</td>\n",
       "      <td>2023-07-03</td>\n",
       "      <td>28</td>\n",
       "    </tr>\n",
       "    <tr>\n",
       "      <th>3</th>\n",
       "      <td>A32000</td>\n",
       "      <td>Fan Pier</td>\n",
       "      <td>2023-07-04</td>\n",
       "      <td>35</td>\n",
       "    </tr>\n",
       "    <tr>\n",
       "      <th>4</th>\n",
       "      <td>A32000</td>\n",
       "      <td>Fan Pier</td>\n",
       "      <td>2023-07-05</td>\n",
       "      <td>41</td>\n",
       "    </tr>\n",
       "  </tbody>\n",
       "</table>\n",
       "</div>"
      ],
      "text/plain": [
       "  start_station_id start_station_name       date  trip_count\n",
       "0           A32000           Fan Pier 2023-07-01          30\n",
       "1           A32000           Fan Pier 2023-07-02          20\n",
       "2           A32000           Fan Pier 2023-07-03          28\n",
       "3           A32000           Fan Pier 2023-07-04          35\n",
       "4           A32000           Fan Pier 2023-07-05          41"
      ]
     },
     "execution_count": 7,
     "metadata": {},
     "output_type": "execute_result"
    }
   ],
   "source": [
    "daily_counts = (\n",
    "    trips_active.groupby(['start_station_id', 'start_station_name', 'date'])\n",
    "                .size()\n",
    "                .reset_index(name='trip_count')\n",
    ")\n",
    "daily_counts.head()"
   ]
  },
  {
   "cell_type": "code",
   "execution_count": 23,
   "metadata": {},
   "outputs": [
    {
     "data": {
      "text/html": [
       "<div>\n",
       "<style scoped>\n",
       "    .dataframe tbody tr th:only-of-type {\n",
       "        vertical-align: middle;\n",
       "    }\n",
       "\n",
       "    .dataframe tbody tr th {\n",
       "        vertical-align: top;\n",
       "    }\n",
       "\n",
       "    .dataframe thead th {\n",
       "        text-align: right;\n",
       "    }\n",
       "</style>\n",
       "<table border=\"1\" class=\"dataframe\">\n",
       "  <thead>\n",
       "    <tr style=\"text-align: right;\">\n",
       "      <th></th>\n",
       "      <th>date</th>\n",
       "      <th>temp</th>\n",
       "      <th>humidity</th>\n",
       "      <th>precip</th>\n",
       "      <th>snow</th>\n",
       "      <th>windspeed</th>\n",
       "      <th>visibility</th>\n",
       "    </tr>\n",
       "  </thead>\n",
       "  <tbody>\n",
       "    <tr>\n",
       "      <th>0</th>\n",
       "      <td>2023-06-30</td>\n",
       "      <td>21.5</td>\n",
       "      <td>82.3</td>\n",
       "      <td>0.000</td>\n",
       "      <td>0.0</td>\n",
       "      <td>22.0</td>\n",
       "      <td>15.4</td>\n",
       "    </tr>\n",
       "    <tr>\n",
       "      <th>1</th>\n",
       "      <td>2023-07-01</td>\n",
       "      <td>19.3</td>\n",
       "      <td>93.5</td>\n",
       "      <td>0.000</td>\n",
       "      <td>0.0</td>\n",
       "      <td>20.3</td>\n",
       "      <td>4.8</td>\n",
       "    </tr>\n",
       "    <tr>\n",
       "      <th>2</th>\n",
       "      <td>2023-07-02</td>\n",
       "      <td>20.9</td>\n",
       "      <td>89.9</td>\n",
       "      <td>8.278</td>\n",
       "      <td>0.0</td>\n",
       "      <td>28.9</td>\n",
       "      <td>7.6</td>\n",
       "    </tr>\n",
       "    <tr>\n",
       "      <th>3</th>\n",
       "      <td>2023-07-03</td>\n",
       "      <td>20.4</td>\n",
       "      <td>89.4</td>\n",
       "      <td>14.249</td>\n",
       "      <td>0.0</td>\n",
       "      <td>18.0</td>\n",
       "      <td>10.4</td>\n",
       "    </tr>\n",
       "    <tr>\n",
       "      <th>4</th>\n",
       "      <td>2023-07-04</td>\n",
       "      <td>20.1</td>\n",
       "      <td>94.4</td>\n",
       "      <td>12.163</td>\n",
       "      <td>0.0</td>\n",
       "      <td>16.4</td>\n",
       "      <td>12.0</td>\n",
       "    </tr>\n",
       "  </tbody>\n",
       "</table>\n",
       "</div>"
      ],
      "text/plain": [
       "        date  temp  humidity  precip  snow  windspeed  visibility\n",
       "0 2023-06-30  21.5      82.3   0.000   0.0       22.0        15.4\n",
       "1 2023-07-01  19.3      93.5   0.000   0.0       20.3         4.8\n",
       "2 2023-07-02  20.9      89.9   8.278   0.0       28.9         7.6\n",
       "3 2023-07-03  20.4      89.4  14.249   0.0       18.0        10.4\n",
       "4 2023-07-04  20.1      94.4  12.163   0.0       16.4        12.0"
      ]
     },
     "execution_count": 23,
     "metadata": {},
     "output_type": "execute_result"
    }
   ],
   "source": [
    "weather = pd.read_csv('data/boston_weather.csv')\n",
    "weather = weather[['datetime','temp','humidity','precip','snow','windspeed','visibility']]\n",
    "weather['datetime'] = pd.to_datetime(weather['datetime'])\n",
    "weather =weather.rename({'datetime':'date'},axis=1)\n",
    "weather.head()"
   ]
  },
  {
   "cell_type": "code",
   "execution_count": 24,
   "metadata": {},
   "outputs": [
    {
     "data": {
      "text/html": [
       "<div>\n",
       "<style scoped>\n",
       "    .dataframe tbody tr th:only-of-type {\n",
       "        vertical-align: middle;\n",
       "    }\n",
       "\n",
       "    .dataframe tbody tr th {\n",
       "        vertical-align: top;\n",
       "    }\n",
       "\n",
       "    .dataframe thead th {\n",
       "        text-align: right;\n",
       "    }\n",
       "</style>\n",
       "<table border=\"1\" class=\"dataframe\">\n",
       "  <thead>\n",
       "    <tr style=\"text-align: right;\">\n",
       "      <th></th>\n",
       "      <th>start_station_id</th>\n",
       "      <th>start_station_name</th>\n",
       "      <th>date</th>\n",
       "      <th>trip_count</th>\n",
       "      <th>temp</th>\n",
       "      <th>humidity</th>\n",
       "      <th>precip</th>\n",
       "      <th>snow</th>\n",
       "      <th>windspeed</th>\n",
       "      <th>visibility</th>\n",
       "    </tr>\n",
       "  </thead>\n",
       "  <tbody>\n",
       "    <tr>\n",
       "      <th>0</th>\n",
       "      <td>A32000</td>\n",
       "      <td>Fan Pier</td>\n",
       "      <td>2023-07-01</td>\n",
       "      <td>30</td>\n",
       "      <td>19.3</td>\n",
       "      <td>93.5</td>\n",
       "      <td>0.000</td>\n",
       "      <td>0.0</td>\n",
       "      <td>20.3</td>\n",
       "      <td>4.8</td>\n",
       "    </tr>\n",
       "    <tr>\n",
       "      <th>1</th>\n",
       "      <td>A32000</td>\n",
       "      <td>Fan Pier</td>\n",
       "      <td>2023-07-02</td>\n",
       "      <td>20</td>\n",
       "      <td>20.9</td>\n",
       "      <td>89.9</td>\n",
       "      <td>8.278</td>\n",
       "      <td>0.0</td>\n",
       "      <td>28.9</td>\n",
       "      <td>7.6</td>\n",
       "    </tr>\n",
       "  </tbody>\n",
       "</table>\n",
       "</div>"
      ],
      "text/plain": [
       "  start_station_id start_station_name       date  trip_count  temp  humidity  \\\n",
       "0           A32000           Fan Pier 2023-07-01          30  19.3      93.5   \n",
       "1           A32000           Fan Pier 2023-07-02          20  20.9      89.9   \n",
       "\n",
       "   precip  snow  windspeed  visibility  \n",
       "0   0.000   0.0       20.3         4.8  \n",
       "1   8.278   0.0       28.9         7.6  "
      ]
     },
     "execution_count": 24,
     "metadata": {},
     "output_type": "execute_result"
    }
   ],
   "source": [
    "daily_counts_w = daily_counts.merge(weather,on='date')\n",
    "daily_counts_w.head(2)"
   ]
  },
  {
   "cell_type": "code",
   "execution_count": 26,
   "metadata": {},
   "outputs": [],
   "source": [
    "daily_counts_w.to_csv(\"data/daily_counts_with_weather.csv\", index=False)"
   ]
  },
  {
   "cell_type": "markdown",
   "metadata": {},
   "source": [
    "#### EDA"
   ]
  },
  {
   "cell_type": "markdown",
   "metadata": {},
   "source": [
    "Distribution of Target Variable"
   ]
  },
  {
   "cell_type": "code",
   "execution_count": 21,
   "metadata": {},
   "outputs": [
    {
     "data": {
      "image/png": "[encoded data removed]",
      "text/plain": [
       "<Figure size 640x480 with 1 Axes>"
      ]
     },
     "metadata": {},
     "output_type": "display_data"
    }
   ],
   "source": [
    "daily_counts_w['trip_count'].plot();"
   ]
  },
  {
   "cell_type": "markdown",
   "metadata": {},
   "source": [
    "Top 10 Most Used Stations"
   ]
  },
  {
   "cell_type": "code",
   "execution_count": 22,
   "metadata": {},
   "outputs": [
    {
     "data": {
      "text/plain": [
       "start_station_name\n",
       "MIT at Mass Ave / Amherst St                                   168000\n",
       "Central Square at Mass Ave / Essex St                          129261\n",
       "Harvard Square at Mass Ave/ Dunster                            115211\n",
       "MIT Vassar St                                                   96871\n",
       "MIT Pacific St at Purrington St                                 93428\n",
       "Charles Circle - Charles St at Cambridge St                     88383\n",
       "Ames St at Main St                                              85390\n",
       "Christian Science Plaza - Massachusetts Ave at Westland Ave     78519\n",
       "Mass Ave/Lafayette Square                                       76627\n",
       "Beacon St at Massachusetts Ave                                  74384\n",
       "Name: trip_count, dtype: int64"
      ]
     },
     "execution_count": 22,
     "metadata": {},
     "output_type": "execute_result"
    }
   ],
   "source": [
    "daily_counts_w.groupby('start_station_name')['trip_count'].sum().sort_values(ascending=False)[:10]"
   ]
  },
  {
   "cell_type": "code",
   "execution_count": null,
   "metadata": {},
   "outputs": [],
   "source": []
  }
 ],
 "metadata": {
  "kernelspec": {
   "display_name": "dsc80",
   "language": "python",
   "name": "python3"
  },
  "language_info": {
   "codemirror_mode": {
    "name": "ipython",
    "version": 3
   },
   "file_extension": ".py",
   "mimetype": "text/x-python",
   "name": "python",
   "nbconvert_exporter": "python",
   "pygments_lexer": "ipython3",
   "version": "3.12.8"
  }
 },
 "nbformat": 4,
 "nbformat_minor": 2
}
