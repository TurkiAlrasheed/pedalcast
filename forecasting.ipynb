{
 "cells": [
  {
   "cell_type": "markdown",
   "metadata": {},
   "source": [
    "### Pedalcast: Predicting daily bike usage for each station - Forecasting Notebook"
   ]
  },
  {
   "cell_type": "markdown",
   "metadata": {},
   "source": [
    "#### Imports"
   ]
  },
  {
   "cell_type": "code",
   "execution_count": 39,
   "metadata": {},
   "outputs": [],
   "source": [
    "import numpy as np\n",
    "import pandas as pd\n",
    "import plotly.express as px\n",
    "\n",
    "from collections import defaultdict\n",
    "from itertools import groupby\n",
    "from operator import itemgetter\n",
    "import joblib\n",
    "from functions.features import create_features"
   ]
  },
  {
   "cell_type": "code",
   "execution_count": 40,
   "metadata": {},
   "outputs": [
    {
     "data": {
      "text/html": [
       "<div>\n",
       "<style scoped>\n",
       "    .dataframe tbody tr th:only-of-type {\n",
       "        vertical-align: middle;\n",
       "    }\n",
       "\n",
       "    .dataframe tbody tr th {\n",
       "        vertical-align: top;\n",
       "    }\n",
       "\n",
       "    .dataframe thead th {\n",
       "        text-align: right;\n",
       "    }\n",
       "</style>\n",
       "<table border=\"1\" class=\"dataframe\">\n",
       "  <thead>\n",
       "    <tr style=\"text-align: right;\">\n",
       "      <th></th>\n",
       "      <th>start_station_id</th>\n",
       "      <th>start_station_name</th>\n",
       "      <th>date</th>\n",
       "      <th>trip_count</th>\n",
       "      <th>temp</th>\n",
       "      <th>humidity</th>\n",
       "      <th>precip</th>\n",
       "      <th>snow</th>\n",
       "      <th>windspeed</th>\n",
       "      <th>visibility</th>\n",
       "      <th>cloudcover</th>\n",
       "    </tr>\n",
       "  </thead>\n",
       "  <tbody>\n",
       "    <tr>\n",
       "      <th>0</th>\n",
       "      <td>A32000</td>\n",
       "      <td>Fan Pier</td>\n",
       "      <td>2023-07-01</td>\n",
       "      <td>30</td>\n",
       "      <td>19.3</td>\n",
       "      <td>93.5</td>\n",
       "      <td>0.000</td>\n",
       "      <td>0.0</td>\n",
       "      <td>20.3</td>\n",
       "      <td>4.8</td>\n",
       "      <td>90.6</td>\n",
       "    </tr>\n",
       "    <tr>\n",
       "      <th>1</th>\n",
       "      <td>A32000</td>\n",
       "      <td>Fan Pier</td>\n",
       "      <td>2023-07-02</td>\n",
       "      <td>20</td>\n",
       "      <td>20.9</td>\n",
       "      <td>89.9</td>\n",
       "      <td>8.278</td>\n",
       "      <td>0.0</td>\n",
       "      <td>28.9</td>\n",
       "      <td>7.6</td>\n",
       "      <td>98.5</td>\n",
       "    </tr>\n",
       "    <tr>\n",
       "      <th>2</th>\n",
       "      <td>A32000</td>\n",
       "      <td>Fan Pier</td>\n",
       "      <td>2023-07-03</td>\n",
       "      <td>28</td>\n",
       "      <td>20.4</td>\n",
       "      <td>89.4</td>\n",
       "      <td>14.249</td>\n",
       "      <td>0.0</td>\n",
       "      <td>18.0</td>\n",
       "      <td>10.4</td>\n",
       "      <td>89.5</td>\n",
       "    </tr>\n",
       "    <tr>\n",
       "      <th>3</th>\n",
       "      <td>A32000</td>\n",
       "      <td>Fan Pier</td>\n",
       "      <td>2023-07-04</td>\n",
       "      <td>35</td>\n",
       "      <td>20.1</td>\n",
       "      <td>94.4</td>\n",
       "      <td>12.163</td>\n",
       "      <td>0.0</td>\n",
       "      <td>16.4</td>\n",
       "      <td>12.0</td>\n",
       "      <td>96.0</td>\n",
       "    </tr>\n",
       "    <tr>\n",
       "      <th>4</th>\n",
       "      <td>A32000</td>\n",
       "      <td>Fan Pier</td>\n",
       "      <td>2023-07-05</td>\n",
       "      <td>41</td>\n",
       "      <td>23.9</td>\n",
       "      <td>78.4</td>\n",
       "      <td>0.000</td>\n",
       "      <td>0.0</td>\n",
       "      <td>17.8</td>\n",
       "      <td>13.3</td>\n",
       "      <td>53.3</td>\n",
       "    </tr>\n",
       "  </tbody>\n",
       "</table>\n",
       "</div>"
      ],
      "text/plain": [
       "  start_station_id start_station_name       date  trip_count  temp  humidity  \\\n",
       "0           A32000           Fan Pier 2023-07-01          30  19.3      93.5   \n",
       "1           A32000           Fan Pier 2023-07-02          20  20.9      89.9   \n",
       "2           A32000           Fan Pier 2023-07-03          28  20.4      89.4   \n",
       "3           A32000           Fan Pier 2023-07-04          35  20.1      94.4   \n",
       "4           A32000           Fan Pier 2023-07-05          41  23.9      78.4   \n",
       "\n",
       "   precip  snow  windspeed  visibility  cloudcover  \n",
       "0   0.000   0.0       20.3         4.8        90.6  \n",
       "1   8.278   0.0       28.9         7.6        98.5  \n",
       "2  14.249   0.0       18.0        10.4        89.5  \n",
       "3  12.163   0.0       16.4        12.0        96.0  \n",
       "4   0.000   0.0       17.8        13.3        53.3  "
      ]
     },
     "execution_count": 40,
     "metadata": {},
     "output_type": "execute_result"
    }
   ],
   "source": [
    "daily_counts = pd.read_csv('data/daily_counts_with_weather.csv')\n",
    "daily_counts['date'] = pd.to_datetime(daily_counts['date'])\n",
    "daily_counts.head()"
   ]
  },
  {
   "cell_type": "markdown",
   "metadata": {},
   "source": [
    "#### Detecting Seasonal Inactivity\n",
    "\n",
    "To avoid forecasting for stations during periods when they’ve never been active, we identify seasonal inactivity as follows:\n",
    "\n",
    "1. Normalize across years: Add `dayofyear` and `year` to align activity by calendar day.\n",
    "2. Build activity matrix: Mark each station-day as active if `trip_count > 0`.\n",
    "3. Invert to inactivity: Identify days that were never active across any year.\n",
    "4. Group into spans: Detect consecutive inactive days and retain blocks ≥ 45 days.\n",
    "5. Store results: Save (start_day, end_day) tuples per station to filter future forecasts.\n",
    "\n",
    "This avoids predictions during seasonal closures (e.g. winter) while still allowing forecasts for newer stations."
   ]
  },
  {
   "cell_type": "code",
   "execution_count": 41,
   "metadata": {},
   "outputs": [
    {
     "name": "stdout",
     "output_type": "stream",
     "text": [
      "A32014: inactive blocks → [(1, 155), (182, 366)]\n",
      "A32021: inactive blocks → [(1, 118), (182, 366)]\n",
      "A32024: inactive blocks → [(182, 275)]\n",
      "A32029: inactive blocks → [(1, 72)]\n",
      "A32034: inactive blocks → [(1, 127)]\n"
     ]
    }
   ],
   "source": [
    "# 1. Create a 'day of year' column to normalize across years\n",
    "daily_counts['dayofyear'] = daily_counts['date'].dt.dayofyear\n",
    "daily_counts['year'] = daily_counts['date'].dt.year\n",
    "\n",
    "# 2. Pivot: For each station and dayofyear, see if there was *any* activity\n",
    "activity_matrix = (\n",
    "    daily_counts.groupby(['start_station_id', 'year', 'dayofyear'])['trip_count']\n",
    "    .sum()\n",
    "    .reset_index()\n",
    ")\n",
    "\n",
    "# 3. Mark whether activity occurred (1) or not (0)\n",
    "activity_matrix['active'] = activity_matrix['trip_count'] > 0\n",
    "\n",
    "# 4. Aggregate across all available years: was a station ever active on this day?\n",
    "ever_active = (\n",
    "    activity_matrix\n",
    "    .groupby(['start_station_id', 'dayofyear'])['active']\n",
    "    .any()\n",
    "    .unstack(fill_value=False)  # rows: stations, columns: 1–366\n",
    ")\n",
    "\n",
    "# 5. Find periods where the station was *never* active on any year\n",
    "never_active = ~ever_active  # Flip to inactivity\n",
    "\n",
    "# 6. Detect continuous inactivity spans (e.g., 11/14 to 3/14 ~ days 318–73)\n",
    "seasonal_inactivity = defaultdict(list)\n",
    "\n",
    "for station_id, inactive_days in never_active.iterrows():\n",
    "    inactive_doys = inactive_days[inactive_days].index.tolist()\n",
    "\n",
    "    if not inactive_doys:\n",
    "        continue\n",
    "\n",
    "    # Group consecutive dayofyear values\n",
    "\n",
    "    for k, g in groupby(enumerate(inactive_doys), lambda x: x[1] - x[0]):\n",
    "        block = list(map(itemgetter(1), g))\n",
    "        if len(block) >= 45:  # Only consider \"seasonal\" if >45 days\n",
    "            seasonal_inactivity[station_id].append((block[0], block[-1]))\n",
    "\n",
    "# 7. Show some examples\n",
    "for station, blocks in list(seasonal_inactivity.items())[:5]:\n",
    "    print(f\"{station}: inactive blocks → {blocks}\")"
   ]
  },
  {
   "cell_type": "markdown",
   "metadata": {},
   "source": [
    "#### Forecasting Future Bike Demand\n",
    "\n",
    "To generate predictions for future dates, we define a `forecast_bike_demand()` function that simulates each day recursively.\n",
    "\n",
    "- Historical data (including trip counts) is combined with a date-station grid for the prediction period.\n",
    "- For each forecasted date, the function:\n",
    "  1. Creates features including lag and rolling statistics using the latest available data\n",
    "  2. Uses the trained XGRegressor model to predict demand for every station on that day\n",
    "  3. Appends the predictions back into the dataset so they can be used as lags in the next day's forecast\n",
    "- This recursive structure allows the model to forecast multiple consecutive days, even when no true data exists beyond the last historical date.\n",
    "- The final result is a clean DataFrame of predicted trip counts per station for each day for the requested date range.\n",
    "\n",
    "To support forecasting, we also provide the model with future weather data from July 1, 2025 to July 1, 2027, downloaded from the [Visual Crossing API](https://www.visualcrossing.com/). This ensures the model can incorporate temperature, precipitation, wind, and other conditions during prediction. You can also use it later to get more dates if needed.\n",
    "\n",
    "##### Skipping Seasonally Inactive Stations\n",
    "\n",
    "Some stations are consistently closed during specific parts of the year, such as winter. To avoid generating unrealistic predictions for these periods, we use an `is_inactive()` function:\n",
    "\n",
    "- It checks whether a station is inactive on a given day-of-year based on historical patterns based on the `seasonal_inactivity` dict we defined in the cell before this.\n",
    "- The forecast function skips predictions for (station, date) pairs where inactivity is detected.\n",
    "\n",
    "#### Visualizing Predictions\n",
    "\n",
    "We use the `plot_predictions()` function to create an interactive Plotly line chart of predicted demand over time, grouped by station.\n",
    "\n",
    "- `top_n`(default = 10) Number of stations to show, based on total predicted trips during the forecast period. Only used if `station_ids` is not specified.\n",
    "- `station_ids`(optional) A list of specific `start_station_id`s to visualize. If provided, this overrides `top_n`.\n",
    "\n",
    "Below, we apply the forecasting function to predict demand from **July 1 to July 7, 2025** using the trained model and visualize the predictions."
   ]
  },
  {
   "cell_type": "code",
   "execution_count": 42,
   "metadata": {},
   "outputs": [
    {
     "data": {
      "text/html": [
       "<div>\n",
       "<style scoped>\n",
       "    .dataframe tbody tr th:only-of-type {\n",
       "        vertical-align: middle;\n",
       "    }\n",
       "\n",
       "    .dataframe tbody tr th {\n",
       "        vertical-align: top;\n",
       "    }\n",
       "\n",
       "    .dataframe thead th {\n",
       "        text-align: right;\n",
       "    }\n",
       "</style>\n",
       "<table border=\"1\" class=\"dataframe\">\n",
       "  <thead>\n",
       "    <tr style=\"text-align: right;\">\n",
       "      <th></th>\n",
       "      <th>datetime</th>\n",
       "      <th>temp</th>\n",
       "      <th>humidity</th>\n",
       "      <th>precip</th>\n",
       "      <th>snow</th>\n",
       "      <th>windspeed</th>\n",
       "      <th>visibility</th>\n",
       "      <th>cloudcover</th>\n",
       "      <th>date</th>\n",
       "    </tr>\n",
       "  </thead>\n",
       "  <tbody>\n",
       "    <tr>\n",
       "      <th>726</th>\n",
       "      <td>2027-06-27</td>\n",
       "      <td>22.5</td>\n",
       "      <td>68.6</td>\n",
       "      <td>3.1</td>\n",
       "      <td>NaN</td>\n",
       "      <td>25.9</td>\n",
       "      <td>12.5</td>\n",
       "      <td>46.2</td>\n",
       "      <td>2027-06-27</td>\n",
       "    </tr>\n",
       "    <tr>\n",
       "      <th>727</th>\n",
       "      <td>2027-06-28</td>\n",
       "      <td>22.5</td>\n",
       "      <td>71.3</td>\n",
       "      <td>4.2</td>\n",
       "      <td>NaN</td>\n",
       "      <td>25.6</td>\n",
       "      <td>13.4</td>\n",
       "      <td>64.6</td>\n",
       "      <td>2027-06-28</td>\n",
       "    </tr>\n",
       "    <tr>\n",
       "      <th>728</th>\n",
       "      <td>2027-06-29</td>\n",
       "      <td>22.5</td>\n",
       "      <td>71.3</td>\n",
       "      <td>3.1</td>\n",
       "      <td>NaN</td>\n",
       "      <td>21.6</td>\n",
       "      <td>13.9</td>\n",
       "      <td>58.0</td>\n",
       "      <td>2027-06-29</td>\n",
       "    </tr>\n",
       "    <tr>\n",
       "      <th>729</th>\n",
       "      <td>2027-06-30</td>\n",
       "      <td>23.1</td>\n",
       "      <td>65.1</td>\n",
       "      <td>1.3</td>\n",
       "      <td>NaN</td>\n",
       "      <td>23.8</td>\n",
       "      <td>14.3</td>\n",
       "      <td>52.9</td>\n",
       "      <td>2027-06-30</td>\n",
       "    </tr>\n",
       "    <tr>\n",
       "      <th>730</th>\n",
       "      <td>2027-07-01</td>\n",
       "      <td>22.9</td>\n",
       "      <td>68.5</td>\n",
       "      <td>4.4</td>\n",
       "      <td>NaN</td>\n",
       "      <td>25.2</td>\n",
       "      <td>13.6</td>\n",
       "      <td>53.2</td>\n",
       "      <td>2027-07-01</td>\n",
       "    </tr>\n",
       "  </tbody>\n",
       "</table>\n",
       "</div>"
      ],
      "text/plain": [
       "       datetime  temp  humidity  precip  snow  windspeed  visibility  \\\n",
       "726  2027-06-27  22.5      68.6     3.1   NaN       25.9        12.5   \n",
       "727  2027-06-28  22.5      71.3     4.2   NaN       25.6        13.4   \n",
       "728  2027-06-29  22.5      71.3     3.1   NaN       21.6        13.9   \n",
       "729  2027-06-30  23.1      65.1     1.3   NaN       23.8        14.3   \n",
       "730  2027-07-01  22.9      68.5     4.4   NaN       25.2        13.6   \n",
       "\n",
       "     cloudcover       date  \n",
       "726        46.2 2027-06-27  \n",
       "727        64.6 2027-06-28  \n",
       "728        58.0 2027-06-29  \n",
       "729        52.9 2027-06-30  \n",
       "730        53.2 2027-07-01  "
      ]
     },
     "execution_count": 42,
     "metadata": {},
     "output_type": "execute_result"
    }
   ],
   "source": [
    "# future weather forecast from July 1 2025 through July 1 2027\n",
    "weather_future = pd.read_csv('data/weather_future.csv')[['datetime','temp','humidity','precip','snow','windspeed','visibility','cloudcover']]\n",
    "weather_future['date'] = pd.to_datetime(pd.to_datetime(weather_future['datetime']).dt.date)\n",
    "weather_future.tail()"
   ]
  },
  {
   "cell_type": "code",
   "execution_count": 43,
   "metadata": {},
   "outputs": [],
   "source": [
    "def forecast_bike_demand(start_date, end_date, full_data, model_pipeline, station_ids=None):\n",
    "    \"\"\"\n",
    "    Forecasts bike demand per station from start_date to end_date using past data and a trained pipeline.\n",
    "    \"\"\"\n",
    "\n",
    "    start_date = pd.to_datetime(start_date)\n",
    "    end_date = pd.to_datetime(end_date)\n",
    "\n",
    "    # 1. Filter to historical data needed for lags\n",
    "    history_window = (full_data[['start_station_id','date','trip_count']].copy())\n",
    "    \n",
    "    # 2. Get list of all active stations(1 year) to forecast if user doesn't choose specific stations\n",
    "    if station_ids is None:\n",
    "        stations = (full_data[\n",
    "    (full_data['date'] >= '2024-06-30') & (full_data['date'] <= '2025-06-30')]\n",
    "    ['start_station_id'].unique())\n",
    "    else:\n",
    "        stations = station_ids\n",
    "    \n",
    "    recursive_start = pd.to_datetime(\"2025-07-01\")\n",
    "\n",
    "    # 3. Create empty grid of future dates × stations\n",
    "    future_dates = pd.date_range(start=recursive_start, end=end_date, freq='D')\n",
    "    future_df = pd.DataFrame([(station, date) for station in stations for date in future_dates],\n",
    "                             columns=['start_station_id', 'date'])\n",
    "    \n",
    "    # 4. Combine with historical data (to allow lag feature generation)\n",
    "    combined = pd.concat([history_window, future_df], ignore_index=True, sort=False)\n",
    "\n",
    "    # 5. Create placeholder for predictions\n",
    "    all_predictions = []\n",
    "\n",
    "    # 6. Forecasting window\n",
    "    forecast_dates = pd.date_range(\n",
    "        start=recursive_start,\n",
    "        end=end_date,\n",
    "        freq='D'\n",
    "    )\n",
    "\n",
    "    # 7. Start with combined base data (historical + blank rows)\n",
    "    combined = pd.concat([history_window, future_df], ignore_index=True, sort=False)\n",
    "    combined = combined.merge(weather_future, on='date', how='left')\n",
    "\n",
    "    for forecast_date in forecast_dates:\n",
    "        # Create features with latest known + predicted values\n",
    "        temp = create_features(combined.copy())\n",
    "\n",
    "        # Filter to the row for this forecast date\n",
    "        row = temp[temp['date'] == forecast_date]\n",
    "        if seasonal_inactivity:\n",
    "            row = row[~row.apply(\n",
    "                lambda r: is_inactive(r['start_station_id'], r['date'], seasonal_inactivity),\n",
    "                axis=1\n",
    "            )]\n",
    "        if row.empty:\n",
    "            continue\n",
    "\n",
    "        # Predict\n",
    "        X_row = row.drop(columns=['trip_count'], errors='ignore')\n",
    "        y_pred = model_pipeline.predict(X_row)\n",
    "\n",
    "        row['trip_count'] = y_pred\n",
    "        all_predictions.append(row[['date', 'start_station_id', 'trip_count']])\n",
    "\n",
    "        # Append prediction back to combined to use in future lags\n",
    "        combined = pd.concat([combined, row[['start_station_id', 'date', 'trip_count']]], ignore_index=True)\n",
    "\n",
    "    # 8. Final result\n",
    "    result_df = pd.concat(all_predictions, ignore_index=True)\n",
    "    result_df.rename(columns={'trip_count': 'predicted_trip_count'}, inplace=True)\n",
    "    result_df = result_df[(result_df['date'] >= start_date) & (result_df['date'] <= end_date)]\n",
    "\n",
    "    return result_df[['date', 'start_station_id', 'predicted_trip_count']]\n",
    "\n",
    "def is_inactive(station_id, date, inactivity_dict):\n",
    "    doy = date.timetuple().tm_yday\n",
    "    for start, end in inactivity_dict.get(station_id, []):\n",
    "        if start <= doy <= end:\n",
    "            return True\n",
    "    return False\n",
    "\n",
    "def plot_predictions(predictions_df, top_n=10,station_ids=None):\n",
    "    if station_ids is not None:\n",
    "        plot_df = predictions_df[predictions_df['start_station_id'].isin(station_ids)]\n",
    "    else:\n",
    "        top_stations = (\n",
    "            predictions_df.groupby('start_station_id')['predicted_trip_count']\n",
    "              .sum()\n",
    "              .sort_values(ascending=False)\n",
    "              .head(top_n)\n",
    "              .index\n",
    "        )\n",
    "        plot_df = predictions_df[predictions_df['start_station_id'].isin(top_stations)]\n",
    "\n",
    "    fig = px.line(\n",
    "        plot_df,\n",
    "        x=\"date\",\n",
    "        y=\"predicted_trip_count\",\n",
    "        color=\"start_station_id\",\n",
    "        title=\"Predicted Daily Bike Usage (Top Stations)\",\n",
    "        labels={\"predicted_trip_count\": \"Predicted Trips\"},\n",
    "        template=\"plotly_white\"\n",
    "    )\n",
    "    fig.show()"
   ]
  },
  {
   "cell_type": "code",
   "execution_count": 44,
   "metadata": {},
   "outputs": [
    {
     "data": {
      "text/html": [
       "<div>\n",
       "<style scoped>\n",
       "    .dataframe tbody tr th:only-of-type {\n",
       "        vertical-align: middle;\n",
       "    }\n",
       "\n",
       "    .dataframe tbody tr th {\n",
       "        vertical-align: top;\n",
       "    }\n",
       "\n",
       "    .dataframe thead th {\n",
       "        text-align: right;\n",
       "    }\n",
       "</style>\n",
       "<table border=\"1\" class=\"dataframe\">\n",
       "  <thead>\n",
       "    <tr style=\"text-align: right;\">\n",
       "      <th></th>\n",
       "      <th>date</th>\n",
       "      <th>start_station_id</th>\n",
       "      <th>predicted_trip_count</th>\n",
       "    </tr>\n",
       "  </thead>\n",
       "  <tbody>\n",
       "    <tr>\n",
       "      <th>0</th>\n",
       "      <td>2025-07-01</td>\n",
       "      <td>A32000</td>\n",
       "      <td>10.158089</td>\n",
       "    </tr>\n",
       "    <tr>\n",
       "      <th>1</th>\n",
       "      <td>2025-07-01</td>\n",
       "      <td>A32001</td>\n",
       "      <td>12.152802</td>\n",
       "    </tr>\n",
       "    <tr>\n",
       "      <th>2</th>\n",
       "      <td>2025-07-01</td>\n",
       "      <td>A32002</td>\n",
       "      <td>37.023739</td>\n",
       "    </tr>\n",
       "    <tr>\n",
       "      <th>3</th>\n",
       "      <td>2025-07-01</td>\n",
       "      <td>A32003</td>\n",
       "      <td>23.674147</td>\n",
       "    </tr>\n",
       "    <tr>\n",
       "      <th>4</th>\n",
       "      <td>2025-07-01</td>\n",
       "      <td>A32004</td>\n",
       "      <td>33.753563</td>\n",
       "    </tr>\n",
       "    <tr>\n",
       "      <th>...</th>\n",
       "      <td>...</td>\n",
       "      <td>...</td>\n",
       "      <td>...</td>\n",
       "    </tr>\n",
       "    <tr>\n",
       "      <th>3453</th>\n",
       "      <td>2025-07-07</td>\n",
       "      <td>W32009</td>\n",
       "      <td>8.406739</td>\n",
       "    </tr>\n",
       "    <tr>\n",
       "      <th>3454</th>\n",
       "      <td>2025-07-07</td>\n",
       "      <td>X32999</td>\n",
       "      <td>8.996682</td>\n",
       "    </tr>\n",
       "    <tr>\n",
       "      <th>3455</th>\n",
       "      <td>2025-07-07</td>\n",
       "      <td>Z32998</td>\n",
       "      <td>10.197105</td>\n",
       "    </tr>\n",
       "    <tr>\n",
       "      <th>3456</th>\n",
       "      <td>2025-07-07</td>\n",
       "      <td>Z32999</td>\n",
       "      <td>6.220559</td>\n",
       "    </tr>\n",
       "    <tr>\n",
       "      <th>3457</th>\n",
       "      <td>2025-07-07</td>\n",
       "      <td>ZZ32996</td>\n",
       "      <td>6.446166</td>\n",
       "    </tr>\n",
       "  </tbody>\n",
       "</table>\n",
       "<p>3458 rows × 3 columns</p>\n",
       "</div>"
      ],
      "text/plain": [
       "           date start_station_id  predicted_trip_count\n",
       "0    2025-07-01           A32000             10.158089\n",
       "1    2025-07-01           A32001             12.152802\n",
       "2    2025-07-01           A32002             37.023739\n",
       "3    2025-07-01           A32003             23.674147\n",
       "4    2025-07-01           A32004             33.753563\n",
       "...         ...              ...                   ...\n",
       "3453 2025-07-07           W32009              8.406739\n",
       "3454 2025-07-07           X32999              8.996682\n",
       "3455 2025-07-07           Z32998             10.197105\n",
       "3456 2025-07-07           Z32999              6.220559\n",
       "3457 2025-07-07          ZZ32996              6.446166\n",
       "\n",
       "[3458 rows x 3 columns]"
      ]
     },
     "execution_count": 44,
     "metadata": {},
     "output_type": "execute_result"
    }
   ],
   "source": [
    "# Load saved model\n",
    "loaded_model = joblib.load('xgb_final_model.pkl')\n",
    "\n",
    "# Forecast demand for the first week of July 2025\n",
    "predictions = forecast_bike_demand(\n",
    "    start_date='2025-07-01',\n",
    "    end_date='2025-07-07',\n",
    "    full_data=daily_counts,  \n",
    "    model_pipeline=loaded_model\n",
    ")\n",
    "\n",
    "predictions"
   ]
  },
  {
   "cell_type": "code",
   "execution_count": 45,
   "metadata": {},
   "outputs": [
    {
     "data": {
      "application/vnd.plotly.v1+json": {
       "config": {
        "plotlyServerURL": "https://plot.ly"
       },
       "data": [
        {
         "hovertemplate": "start_station_id=D32016<br>date=%{x}<br>Predicted Trips=%{y}<extra></extra>",
         "legendgroup": "D32016",
         "line": {
          "color": "#636efa",
          "dash": "solid"
         },
         "marker": {
          "symbol": "circle"
         },
         "mode": "lines",
         "name": "D32016",
         "orientation": "v",
         "showlegend": true,
         "type": "scatter",
         "x": [
          "2025-07-01T00:00:00",
          "2025-07-02T00:00:00",
          "2025-07-03T00:00:00",
          "2025-07-04T00:00:00",
          "2025-07-05T00:00:00",
          "2025-07-06T00:00:00",
          "2025-07-07T00:00:00"
         ],
         "xaxis": "x",
         "y": [
          174.56,
          46.86585,
          32.098553,
          48.027332,
          46.96131,
          46.715908,
          41.99071
         ],
         "yaxis": "y"
        },
        {
         "hovertemplate": "start_station_id=D32061<br>date=%{x}<br>Predicted Trips=%{y}<extra></extra>",
         "legendgroup": "D32061",
         "line": {
          "color": "#EF553B",
          "dash": "solid"
         },
         "marker": {
          "symbol": "circle"
         },
         "mode": "lines",
         "name": "D32061",
         "orientation": "v",
         "showlegend": true,
         "type": "scatter",
         "x": [
          "2025-07-01T00:00:00",
          "2025-07-02T00:00:00",
          "2025-07-03T00:00:00",
          "2025-07-04T00:00:00",
          "2025-07-05T00:00:00",
          "2025-07-06T00:00:00",
          "2025-07-07T00:00:00"
         ],
         "xaxis": "x",
         "y": [
          10.675366,
          108.00513,
          33.8049,
          20.630707,
          9.035077,
          152.32822,
          22.279043
         ],
         "yaxis": "y"
        },
        {
         "hovertemplate": "start_station_id=L32002<br>date=%{x}<br>Predicted Trips=%{y}<extra></extra>",
         "legendgroup": "L32002",
         "line": {
          "color": "#00cc96",
          "dash": "solid"
         },
         "marker": {
          "symbol": "circle"
         },
         "mode": "lines",
         "name": "L32002",
         "orientation": "v",
         "showlegend": true,
         "type": "scatter",
         "x": [
          "2025-07-01T00:00:00",
          "2025-07-02T00:00:00",
          "2025-07-03T00:00:00",
          "2025-07-04T00:00:00",
          "2025-07-05T00:00:00",
          "2025-07-06T00:00:00",
          "2025-07-07T00:00:00"
         ],
         "xaxis": "x",
         "y": [
          25.914799,
          15.251714,
          110.354515,
          24.989454,
          17.119581,
          9.879928,
          164.76067
         ],
         "yaxis": "y"
        },
        {
         "hovertemplate": "start_station_id=M32005<br>date=%{x}<br>Predicted Trips=%{y}<extra></extra>",
         "legendgroup": "M32005",
         "line": {
          "color": "#ab63fa",
          "dash": "solid"
         },
         "marker": {
          "symbol": "circle"
         },
         "mode": "lines",
         "name": "M32005",
         "orientation": "v",
         "showlegend": true,
         "type": "scatter",
         "x": [
          "2025-07-01T00:00:00",
          "2025-07-02T00:00:00",
          "2025-07-03T00:00:00",
          "2025-07-04T00:00:00",
          "2025-07-05T00:00:00",
          "2025-07-06T00:00:00",
          "2025-07-07T00:00:00"
         ],
         "xaxis": "x",
         "y": [
          54.248554,
          178.89705,
          28.066246,
          25.308134,
          17.094913,
          19.590672,
          17.445448
         ],
         "yaxis": "y"
        },
        {
         "hovertemplate": "start_station_id=M32006<br>date=%{x}<br>Predicted Trips=%{y}<extra></extra>",
         "legendgroup": "M32006",
         "line": {
          "color": "#FFA15A",
          "dash": "solid"
         },
         "marker": {
          "symbol": "circle"
         },
         "mode": "lines",
         "name": "M32006",
         "orientation": "v",
         "showlegend": true,
         "type": "scatter",
         "x": [
          "2025-07-01T00:00:00",
          "2025-07-02T00:00:00",
          "2025-07-03T00:00:00",
          "2025-07-04T00:00:00",
          "2025-07-05T00:00:00",
          "2025-07-06T00:00:00",
          "2025-07-07T00:00:00"
         ],
         "xaxis": "x",
         "y": [
          66.73242,
          218.59232,
          60.342236,
          53.179245,
          43.369408,
          26.557024,
          49.856167
         ],
         "yaxis": "y"
        },
        {
         "hovertemplate": "start_station_id=M32011<br>date=%{x}<br>Predicted Trips=%{y}<extra></extra>",
         "legendgroup": "M32011",
         "line": {
          "color": "#19d3f3",
          "dash": "solid"
         },
         "marker": {
          "symbol": "circle"
         },
         "mode": "lines",
         "name": "M32011",
         "orientation": "v",
         "showlegend": true,
         "type": "scatter",
         "x": [
          "2025-07-01T00:00:00",
          "2025-07-02T00:00:00",
          "2025-07-03T00:00:00",
          "2025-07-04T00:00:00",
          "2025-07-05T00:00:00",
          "2025-07-06T00:00:00",
          "2025-07-07T00:00:00"
         ],
         "xaxis": "x",
         "y": [
          67.70322,
          76.6682,
          53.455154,
          54.95406,
          41.406784,
          43.316593,
          33.62987
         ],
         "yaxis": "y"
        },
        {
         "hovertemplate": "start_station_id=M32018<br>date=%{x}<br>Predicted Trips=%{y}<extra></extra>",
         "legendgroup": "M32018",
         "line": {
          "color": "#FF6692",
          "dash": "solid"
         },
         "marker": {
          "symbol": "circle"
         },
         "mode": "lines",
         "name": "M32018",
         "orientation": "v",
         "showlegend": true,
         "type": "scatter",
         "x": [
          "2025-07-01T00:00:00",
          "2025-07-02T00:00:00",
          "2025-07-03T00:00:00",
          "2025-07-04T00:00:00",
          "2025-07-05T00:00:00",
          "2025-07-06T00:00:00",
          "2025-07-07T00:00:00"
         ],
         "xaxis": "x",
         "y": [
          57.940765,
          31.615847,
          33.952362,
          34.27356,
          40.727283,
          123.80351,
          50.086334
         ],
         "yaxis": "y"
        },
        {
         "hovertemplate": "start_station_id=S32002<br>date=%{x}<br>Predicted Trips=%{y}<extra></extra>",
         "legendgroup": "S32002",
         "line": {
          "color": "#B6E880",
          "dash": "solid"
         },
         "marker": {
          "symbol": "circle"
         },
         "mode": "lines",
         "name": "S32002",
         "orientation": "v",
         "showlegend": true,
         "type": "scatter",
         "x": [
          "2025-07-01T00:00:00",
          "2025-07-02T00:00:00",
          "2025-07-03T00:00:00",
          "2025-07-04T00:00:00",
          "2025-07-05T00:00:00",
          "2025-07-06T00:00:00",
          "2025-07-07T00:00:00"
         ],
         "xaxis": "x",
         "y": [
          115.84875,
          79.69195,
          31.800533,
          21.877708,
          20.31876,
          113.46607,
          26.472479
         ],
         "yaxis": "y"
        },
        {
         "hovertemplate": "start_station_id=S32003<br>date=%{x}<br>Predicted Trips=%{y}<extra></extra>",
         "legendgroup": "S32003",
         "line": {
          "color": "#FF97FF",
          "dash": "solid"
         },
         "marker": {
          "symbol": "circle"
         },
         "mode": "lines",
         "name": "S32003",
         "orientation": "v",
         "showlegend": true,
         "type": "scatter",
         "x": [
          "2025-07-01T00:00:00",
          "2025-07-02T00:00:00",
          "2025-07-03T00:00:00",
          "2025-07-04T00:00:00",
          "2025-07-05T00:00:00",
          "2025-07-06T00:00:00",
          "2025-07-07T00:00:00"
         ],
         "xaxis": "x",
         "y": [
          117.37068,
          80.95886,
          36.556446,
          21.74931,
          16.336758,
          109.70375,
          20.98502
         ],
         "yaxis": "y"
        },
        {
         "hovertemplate": "start_station_id=W32001<br>date=%{x}<br>Predicted Trips=%{y}<extra></extra>",
         "legendgroup": "W32001",
         "line": {
          "color": "#FECB52",
          "dash": "solid"
         },
         "marker": {
          "symbol": "circle"
         },
         "mode": "lines",
         "name": "W32001",
         "orientation": "v",
         "showlegend": true,
         "type": "scatter",
         "x": [
          "2025-07-01T00:00:00",
          "2025-07-02T00:00:00",
          "2025-07-03T00:00:00",
          "2025-07-04T00:00:00",
          "2025-07-05T00:00:00",
          "2025-07-06T00:00:00",
          "2025-07-07T00:00:00"
         ],
         "xaxis": "x",
         "y": [
          3.2815099,
          104.5852,
          80.1839,
          32.061253,
          15.109528,
          13.49077,
          130.59613
         ],
         "yaxis": "y"
        }
       ],
       "layout": {
        "legend": {
         "title": {
          "text": "start_station_id"
         },
         "tracegroupgap": 0
        },
        "template": {
         "data": {
          "bar": [
           {
            "error_x": {
             "color": "#2a3f5f"
            },
            "error_y": {
             "color": "#2a3f5f"
            },
            "marker": {
             "line": {
              "color": "white",
              "width": 0.5
             },
             "pattern": {
              "fillmode": "overlay",
              "size": 10,
              "solidity": 0.2
             }
            },
            "type": "bar"
           }
          ],
          "barpolar": [
           {
            "marker": {
             "line": {
              "color": "white",
              "width": 0.5
             },
             "pattern": {
              "fillmode": "overlay",
              "size": 10,
              "solidity": 0.2
             }
            },
            "type": "barpolar"
           }
          ],
          "carpet": [
           {
            "aaxis": {
             "endlinecolor": "#2a3f5f",
             "gridcolor": "#C8D4E3",
             "linecolor": "#C8D4E3",
             "minorgridcolor": "#C8D4E3",
             "startlinecolor": "#2a3f5f"
            },
            "baxis": {
             "endlinecolor": "#2a3f5f",
             "gridcolor": "#C8D4E3",
             "linecolor": "#C8D4E3",
             "minorgridcolor": "#C8D4E3",
             "startlinecolor": "#2a3f5f"
            },
            "type": "carpet"
           }
          ],
          "choropleth": [
           {
            "colorbar": {
             "outlinewidth": 0,
             "ticks": ""
            },
            "type": "choropleth"
           }
          ],
          "contour": [
           {
            "colorbar": {
             "outlinewidth": 0,
             "ticks": ""
            },
            "colorscale": [
             [
              0,
              "#0d0887"
             ],
             [
              0.1111111111111111,
              "#46039f"
             ],
             [
              0.2222222222222222,
              "#7201a8"
             ],
             [
              0.3333333333333333,
              "#9c179e"
             ],
             [
              0.4444444444444444,
              "#bd3786"
             ],
             [
              0.5555555555555556,
              "#d8576b"
             ],
             [
              0.6666666666666666,
              "#ed7953"
             ],
             [
              0.7777777777777778,
              "#fb9f3a"
             ],
             [
              0.8888888888888888,
              "#fdca26"
             ],
             [
              1,
              "#f0f921"
             ]
            ],
            "type": "contour"
           }
          ],
          "contourcarpet": [
           {
            "colorbar": {
             "outlinewidth": 0,
             "ticks": ""
            },
            "type": "contourcarpet"
           }
          ],
          "heatmap": [
           {
            "colorbar": {
             "outlinewidth": 0,
             "ticks": ""
            },
            "colorscale": [
             [
              0,
              "#0d0887"
             ],
             [
              0.1111111111111111,
              "#46039f"
             ],
             [
              0.2222222222222222,
              "#7201a8"
             ],
             [
              0.3333333333333333,
              "#9c179e"
             ],
             [
              0.4444444444444444,
              "#bd3786"
             ],
             [
              0.5555555555555556,
              "#d8576b"
             ],
             [
              0.6666666666666666,
              "#ed7953"
             ],
             [
              0.7777777777777778,
              "#fb9f3a"
             ],
             [
              0.8888888888888888,
              "#fdca26"
             ],
             [
              1,
              "#f0f921"
             ]
            ],
            "type": "heatmap"
           }
          ],
          "heatmapgl": [
           {
            "colorbar": {
             "outlinewidth": 0,
             "ticks": ""
            },
            "colorscale": [
             [
              0,
              "#0d0887"
             ],
             [
              0.1111111111111111,
              "#46039f"
             ],
             [
              0.2222222222222222,
              "#7201a8"
             ],
             [
              0.3333333333333333,
              "#9c179e"
             ],
             [
              0.4444444444444444,
              "#bd3786"
             ],
             [
              0.5555555555555556,
              "#d8576b"
             ],
             [
              0.6666666666666666,
              "#ed7953"
             ],
             [
              0.7777777777777778,
              "#fb9f3a"
             ],
             [
              0.8888888888888888,
              "#fdca26"
             ],
             [
              1,
              "#f0f921"
             ]
            ],
            "type": "heatmapgl"
           }
          ],
          "histogram": [
           {
            "marker": {
             "pattern": {
              "fillmode": "overlay",
              "size": 10,
              "solidity": 0.2
             }
            },
            "type": "histogram"
           }
          ],
          "histogram2d": [
           {
            "colorbar": {
             "outlinewidth": 0,
             "ticks": ""
            },
            "colorscale": [
             [
              0,
              "#0d0887"
             ],
             [
              0.1111111111111111,
              "#46039f"
             ],
             [
              0.2222222222222222,
              "#7201a8"
             ],
             [
              0.3333333333333333,
              "#9c179e"
             ],
             [
              0.4444444444444444,
              "#bd3786"
             ],
             [
              0.5555555555555556,
              "#d8576b"
             ],
             [
              0.6666666666666666,
              "#ed7953"
             ],
             [
              0.7777777777777778,
              "#fb9f3a"
             ],
             [
              0.8888888888888888,
              "#fdca26"
             ],
             [
              1,
              "#f0f921"
             ]
            ],
            "type": "histogram2d"
           }
          ],
          "histogram2dcontour": [
           {
            "colorbar": {
             "outlinewidth": 0,
             "ticks": ""
            },
            "colorscale": [
             [
              0,
              "#0d0887"
             ],
             [
              0.1111111111111111,
              "#46039f"
             ],
             [
              0.2222222222222222,
              "#7201a8"
             ],
             [
              0.3333333333333333,
              "#9c179e"
             ],
             [
              0.4444444444444444,
              "#bd3786"
             ],
             [
              0.5555555555555556,
              "#d8576b"
             ],
             [
              0.6666666666666666,
              "#ed7953"
             ],
             [
              0.7777777777777778,
              "#fb9f3a"
             ],
             [
              0.8888888888888888,
              "#fdca26"
             ],
             [
              1,
              "#f0f921"
             ]
            ],
            "type": "histogram2dcontour"
           }
          ],
          "mesh3d": [
           {
            "colorbar": {
             "outlinewidth": 0,
             "ticks": ""
            },
            "type": "mesh3d"
           }
          ],
          "parcoords": [
           {
            "line": {
             "colorbar": {
              "outlinewidth": 0,
              "ticks": ""
             }
            },
            "type": "parcoords"
           }
          ],
          "pie": [
           {
            "automargin": true,
            "type": "pie"
           }
          ],
          "scatter": [
           {
            "fillpattern": {
             "fillmode": "overlay",
             "size": 10,
             "solidity": 0.2
            },
            "type": "scatter"
           }
          ],
          "scatter3d": [
           {
            "line": {
             "colorbar": {
              "outlinewidth": 0,
              "ticks": ""
             }
            },
            "marker": {
             "colorbar": {
              "outlinewidth": 0,
              "ticks": ""
             }
            },
            "type": "scatter3d"
           }
          ],
          "scattercarpet": [
           {
            "marker": {
             "colorbar": {
              "outlinewidth": 0,
              "ticks": ""
             }
            },
            "type": "scattercarpet"
           }
          ],
          "scattergeo": [
           {
            "marker": {
             "colorbar": {
              "outlinewidth": 0,
              "ticks": ""
             }
            },
            "type": "scattergeo"
           }
          ],
          "scattergl": [
           {
            "marker": {
             "colorbar": {
              "outlinewidth": 0,
              "ticks": ""
             }
            },
            "type": "scattergl"
           }
          ],
          "scattermapbox": [
           {
            "marker": {
             "colorbar": {
              "outlinewidth": 0,
              "ticks": ""
             }
            },
            "type": "scattermapbox"
           }
          ],
          "scatterpolar": [
           {
            "marker": {
             "colorbar": {
              "outlinewidth": 0,
              "ticks": ""
             }
            },
            "type": "scatterpolar"
           }
          ],
          "scatterpolargl": [
           {
            "marker": {
             "colorbar": {
              "outlinewidth": 0,
              "ticks": ""
             }
            },
            "type": "scatterpolargl"
           }
          ],
          "scatterternary": [
           {
            "marker": {
             "colorbar": {
              "outlinewidth": 0,
              "ticks": ""
             }
            },
            "type": "scatterternary"
           }
          ],
          "surface": [
           {
            "colorbar": {
             "outlinewidth": 0,
             "ticks": ""
            },
            "colorscale": [
             [
              0,
              "#0d0887"
             ],
             [
              0.1111111111111111,
              "#46039f"
             ],
             [
              0.2222222222222222,
              "#7201a8"
             ],
             [
              0.3333333333333333,
              "#9c179e"
             ],
             [
              0.4444444444444444,
              "#bd3786"
             ],
             [
              0.5555555555555556,
              "#d8576b"
             ],
             [
              0.6666666666666666,
              "#ed7953"
             ],
             [
              0.7777777777777778,
              "#fb9f3a"
             ],
             [
              0.8888888888888888,
              "#fdca26"
             ],
             [
              1,
              "#f0f921"
             ]
            ],
            "type": "surface"
           }
          ],
          "table": [
           {
            "cells": {
             "fill": {
              "color": "#EBF0F8"
             },
             "line": {
              "color": "white"
             }
            },
            "header": {
             "fill": {
              "color": "#C8D4E3"
             },
             "line": {
              "color": "white"
             }
            },
            "type": "table"
           }
          ]
         },
         "layout": {
          "annotationdefaults": {
           "arrowcolor": "#2a3f5f",
           "arrowhead": 0,
           "arrowwidth": 1
          },
          "autotypenumbers": "strict",
          "coloraxis": {
           "colorbar": {
            "outlinewidth": 0,
            "ticks": ""
           }
          },
          "colorscale": {
           "diverging": [
            [
             0,
             "#8e0152"
            ],
            [
             0.1,
             "#c51b7d"
            ],
            [
             0.2,
             "#de77ae"
            ],
            [
             0.3,
             "#f1b6da"
            ],
            [
             0.4,
             "#fde0ef"
            ],
            [
             0.5,
             "#f7f7f7"
            ],
            [
             0.6,
             "#e6f5d0"
            ],
            [
             0.7,
             "#b8e186"
            ],
            [
             0.8,
             "#7fbc41"
            ],
            [
             0.9,
             "#4d9221"
            ],
            [
             1,
             "#276419"
            ]
           ],
           "sequential": [
            [
             0,
             "#0d0887"
            ],
            [
             0.1111111111111111,
             "#46039f"
            ],
            [
             0.2222222222222222,
             "#7201a8"
            ],
            [
             0.3333333333333333,
             "#9c179e"
            ],
            [
             0.4444444444444444,
             "#bd3786"
            ],
            [
             0.5555555555555556,
             "#d8576b"
            ],
            [
             0.6666666666666666,
             "#ed7953"
            ],
            [
             0.7777777777777778,
             "#fb9f3a"
            ],
            [
             0.8888888888888888,
             "#fdca26"
            ],
            [
             1,
             "#f0f921"
            ]
           ],
           "sequentialminus": [
            [
             0,
             "#0d0887"
            ],
            [
             0.1111111111111111,
             "#46039f"
            ],
            [
             0.2222222222222222,
             "#7201a8"
            ],
            [
             0.3333333333333333,
             "#9c179e"
            ],
            [
             0.4444444444444444,
             "#bd3786"
            ],
            [
             0.5555555555555556,
             "#d8576b"
            ],
            [
             0.6666666666666666,
             "#ed7953"
            ],
            [
             0.7777777777777778,
             "#fb9f3a"
            ],
            [
             0.8888888888888888,
             "#fdca26"
            ],
            [
             1,
             "#f0f921"
            ]
           ]
          },
          "colorway": [
           "#636efa",
           "#EF553B",
           "#00cc96",
           "#ab63fa",
           "#FFA15A",
           "#19d3f3",
           "#FF6692",
           "#B6E880",
           "#FF97FF",
           "#FECB52"
          ],
          "font": {
           "color": "#2a3f5f"
          },
          "geo": {
           "bgcolor": "white",
           "lakecolor": "white",
           "landcolor": "white",
           "showlakes": true,
           "showland": true,
           "subunitcolor": "#C8D4E3"
          },
          "hoverlabel": {
           "align": "left"
          },
          "hovermode": "closest",
          "mapbox": {
           "style": "light"
          },
          "paper_bgcolor": "white",
          "plot_bgcolor": "white",
          "polar": {
           "angularaxis": {
            "gridcolor": "#EBF0F8",
            "linecolor": "#EBF0F8",
            "ticks": ""
           },
           "bgcolor": "white",
           "radialaxis": {
            "gridcolor": "#EBF0F8",
            "linecolor": "#EBF0F8",
            "ticks": ""
           }
          },
          "scene": {
           "xaxis": {
            "backgroundcolor": "white",
            "gridcolor": "#DFE8F3",
            "gridwidth": 2,
            "linecolor": "#EBF0F8",
            "showbackground": true,
            "ticks": "",
            "zerolinecolor": "#EBF0F8"
           },
           "yaxis": {
            "backgroundcolor": "white",
            "gridcolor": "#DFE8F3",
            "gridwidth": 2,
            "linecolor": "#EBF0F8",
            "showbackground": true,
            "ticks": "",
            "zerolinecolor": "#EBF0F8"
           },
           "zaxis": {
            "backgroundcolor": "white",
            "gridcolor": "#DFE8F3",
            "gridwidth": 2,
            "linecolor": "#EBF0F8",
            "showbackground": true,
            "ticks": "",
            "zerolinecolor": "#EBF0F8"
           }
          },
          "shapedefaults": {
           "line": {
            "color": "#2a3f5f"
           }
          },
          "ternary": {
           "aaxis": {
            "gridcolor": "#DFE8F3",
            "linecolor": "#A2B1C6",
            "ticks": ""
           },
           "baxis": {
            "gridcolor": "#DFE8F3",
            "linecolor": "#A2B1C6",
            "ticks": ""
           },
           "bgcolor": "white",
           "caxis": {
            "gridcolor": "#DFE8F3",
            "linecolor": "#A2B1C6",
            "ticks": ""
           }
          },
          "title": {
           "x": 0.05
          },
          "xaxis": {
           "automargin": true,
           "gridcolor": "#EBF0F8",
           "linecolor": "#EBF0F8",
           "ticks": "",
           "title": {
            "standoff": 15
           },
           "zerolinecolor": "#EBF0F8",
           "zerolinewidth": 2
          },
          "yaxis": {
           "automargin": true,
           "gridcolor": "#EBF0F8",
           "linecolor": "#EBF0F8",
           "ticks": "",
           "title": {
            "standoff": 15
           },
           "zerolinecolor": "#EBF0F8",
           "zerolinewidth": 2
          }
         }
        },
        "title": {
         "text": "Predicted Daily Bike Usage (Top Stations)"
        },
        "xaxis": {
         "anchor": "y",
         "domain": [
          0,
          1
         ],
         "title": {
          "text": "date"
         }
        },
        "yaxis": {
         "anchor": "x",
         "domain": [
          0,
          1
         ],
         "title": {
          "text": "Predicted Trips"
         }
        }
       }
      }
     },
     "metadata": {},
     "output_type": "display_data"
    }
   ],
   "source": [
    "plot_predictions(predictions)"
   ]
  }
 ],
 "metadata": {
  "kernelspec": {
   "display_name": "dsc80",
   "language": "python",
   "name": "python3"
  },
  "language_info": {
   "codemirror_mode": {
    "name": "ipython",
    "version": 3
   },
   "file_extension": ".py",
   "mimetype": "text/x-python",
   "name": "python",
   "nbconvert_exporter": "python",
   "pygments_lexer": "ipython3",
   "version": "3.12.8"
  }
 },
 "nbformat": 4,
 "nbformat_minor": 2
}
